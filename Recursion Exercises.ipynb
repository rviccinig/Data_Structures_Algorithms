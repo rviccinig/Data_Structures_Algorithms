{
 "cells": [
  {
   "cell_type": "markdown",
   "metadata": {},
   "source": [
    "# Recursive Exercises"
   ]
  },
  {
   "cell_type": "markdown",
   "metadata": {},
   "source": [
    "C-4.11 Describe an efficient recursive function for solving the element uniqueness\n",
    "problem, which runs in time that is at most O(n2) in the worst case\n",
    "without using sorting."
   ]
  },
  {
   "cell_type": "code",
   "execution_count": 89,
   "metadata": {},
   "outputs": [],
   "source": [
    "S=[1,2,3,3,3,3,3,1,1,1,4,5,6,1,7]"
   ]
  },
  {
   "cell_type": "code",
   "execution_count": 92,
   "metadata": {},
   "outputs": [],
   "source": [
    "def uniqueness(sequence,my_list=[]):\n",
    "    print(sequence)\n",
    "    if len(sequence)==0:\n",
    "        return my_list\n",
    "    else:\n",
    "        if sequence[0] not in my_list:\n",
    "            my_list.append(sequence[0])\n",
    "            uniqueness(sequence[1:])\n",
    "        else:\n",
    "            uniqueness(sequence[1:])\n",
    "    return my_list\n",
    "                        "
   ]
  },
  {
   "cell_type": "code",
   "execution_count": 93,
   "metadata": {},
   "outputs": [
    {
     "name": "stdout",
     "output_type": "stream",
     "text": [
      "[1, 2, 3, 3, 3, 3, 3, 1, 1, 1, 4, 5, 6, 1, 7]\n",
      "[2, 3, 3, 3, 3, 3, 1, 1, 1, 4, 5, 6, 1, 7]\n",
      "[3, 3, 3, 3, 3, 1, 1, 1, 4, 5, 6, 1, 7]\n",
      "[3, 3, 3, 3, 1, 1, 1, 4, 5, 6, 1, 7]\n",
      "[3, 3, 3, 1, 1, 1, 4, 5, 6, 1, 7]\n",
      "[3, 3, 1, 1, 1, 4, 5, 6, 1, 7]\n",
      "[3, 1, 1, 1, 4, 5, 6, 1, 7]\n",
      "[1, 1, 1, 4, 5, 6, 1, 7]\n",
      "[1, 1, 4, 5, 6, 1, 7]\n",
      "[1, 4, 5, 6, 1, 7]\n",
      "[4, 5, 6, 1, 7]\n",
      "[5, 6, 1, 7]\n",
      "[6, 1, 7]\n",
      "[1, 7]\n",
      "[7]\n",
      "[]\n"
     ]
    },
    {
     "data": {
      "text/plain": [
       "[1, 2, 3, 4, 5, 6, 7]"
      ]
     },
     "execution_count": 93,
     "metadata": {},
     "output_type": "execute_result"
    }
   ],
   "source": [
    "uniqueness(S)"
   ]
  },
  {
   "cell_type": "markdown",
   "metadata": {},
   "source": [
    "The non recursive alternative\n"
   ]
  },
  {
   "cell_type": "code",
   "execution_count": 22,
   "metadata": {},
   "outputs": [],
   "source": [
    "def unique_elements(sequence):\n",
    "    list_unique=[]\n",
    "    for i in sequence:\n",
    "        if i not in list_unique:\n",
    "            list_unique.append(i)\n",
    "    return list_unique\n"
   ]
  },
  {
   "cell_type": "code",
   "execution_count": 23,
   "metadata": {},
   "outputs": [
    {
     "data": {
      "text/plain": [
       "[1, 2, 3, 4]"
      ]
     },
     "execution_count": 23,
     "metadata": {},
     "output_type": "execute_result"
    }
   ],
   "source": [
    "unique_elements(S)"
   ]
  },
  {
   "cell_type": "markdown",
   "metadata": {},
   "source": [
    "C-4.12 Give a recursive algorithm to compute the product of two positive integers,\n",
    "m and n, using only addition and subtraction."
   ]
  },
  {
   "cell_type": "code",
   "execution_count": 26,
   "metadata": {},
   "outputs": [],
   "source": [
    "def mult_func(m,n):\n",
    "    if n>=1:\n",
    "        return m + mult_func(m,n-1)\n",
    "    else:\n",
    "        return 0"
   ]
  },
  {
   "cell_type": "code",
   "execution_count": 28,
   "metadata": {},
   "outputs": [
    {
     "data": {
      "text/plain": [
       "25"
      ]
     },
     "execution_count": 28,
     "metadata": {},
     "output_type": "execute_result"
    }
   ],
   "source": [
    "mult_func(5,5)"
   ]
  },
  {
   "cell_type": "markdown",
   "metadata": {},
   "source": [
    "C-4.14 In the Towers of Hanoi puzzle, we are given a platform with three pegs, a,\n",
    "b, and c, sticking out of it. On peg a is a stack of n disks, each larger than\n",
    "the next, so that the smallest is on the top and the largest is on the bottom.\n",
    "The puzzle is to move all the disks from peg a to peg c, moving one disk\n",
    "at a time, so that we never place a larger disk on top of a smaller one.\n",
    "See Figure 4.15 for an example of the case n = 4. Describe a recursive\n",
    "algorithm for solving the Towers of Hanoi puzzle for arbitrary n. (Hint:\n",
    "Consider first the subproblem of moving all but the nth disk from peg a to\n",
    "another peg using the third as “temporary storage.”)"
   ]
  },
  {
   "cell_type": "code",
   "execution_count": 92,
   "metadata": {},
   "outputs": [],
   "source": [
    "\n",
    "def TowerOfHanoi(n , source, destination, auxiliary): \n",
    "    if n==1:\n",
    "        print (\"Move disk (1) from source\",source,\"to destination\",destination)\n",
    "        return \n",
    "    print(n)\n",
    "    TowerOfHanoi(n-1, source, auxiliary, destination) \n",
    "    print (\"Move disk\",n,\"from source\",source,\"to destination\",destination)\n",
    "    TowerOfHanoi(n-1, auxiliary, destination, source) "
   ]
  },
  {
   "cell_type": "code",
   "execution_count": 93,
   "metadata": {},
   "outputs": [
    {
     "name": "stdout",
     "output_type": "stream",
     "text": [
      "4\n",
      "3\n",
      "2\n",
      "Move disk (1) from source A to destination C\n",
      "Move disk 2 from source A to destination B\n",
      "Move disk (1) from source C to destination B\n",
      "Move disk 3 from source A to destination C\n",
      "2\n",
      "Move disk (1) from source B to destination A\n",
      "Move disk 2 from source B to destination C\n",
      "Move disk (1) from source A to destination C\n",
      "Move disk 4 from source A to destination B\n",
      "3\n",
      "2\n",
      "Move disk (1) from source C to destination B\n",
      "Move disk 2 from source C to destination A\n",
      "Move disk (1) from source B to destination A\n",
      "Move disk 3 from source C to destination B\n",
      "2\n",
      "Move disk (1) from source A to destination C\n",
      "Move disk 2 from source A to destination B\n",
      "Move disk (1) from source C to destination B\n"
     ]
    }
   ],
   "source": [
    "# Driver code \n",
    "n = 4\n",
    "TowerOfHanoi(n,'A','B','C') "
   ]
  },
  {
   "cell_type": "markdown",
   "metadata": {},
   "source": [
    "C-4.15 Write a recursive function that will output all the subsets of a set of n\n",
    "elements (without repeating any subsets)"
   ]
  },
  {
   "cell_type": "code",
   "execution_count": 136,
   "metadata": {},
   "outputs": [],
   "source": [
    "Set=[1,2,3,4,5,6,7]"
   ]
  },
  {
   "cell_type": "code",
   "execution_count": 137,
   "metadata": {},
   "outputs": [],
   "source": [
    "def subsets(S):\n",
    "        n=len(S)-1\n",
    "        print(S[n])\n",
    "        if n==0:\n",
    "            return\n",
    "        else:\n",
    "            S.pop(n)\n",
    "            return subsets(S)"
   ]
  },
  {
   "cell_type": "code",
   "execution_count": 138,
   "metadata": {},
   "outputs": [
    {
     "name": "stdout",
     "output_type": "stream",
     "text": [
      "7\n",
      "6\n",
      "5\n",
      "4\n",
      "3\n",
      "2\n",
      "1\n"
     ]
    }
   ],
   "source": [
    "subsets(Set)"
   ]
  }
 ],
 "metadata": {
  "kernelspec": {
   "display_name": "Python 3",
   "language": "python",
   "name": "python3"
  },
  "language_info": {
   "codemirror_mode": {
    "name": "ipython",
    "version": 3
   },
   "file_extension": ".py",
   "mimetype": "text/x-python",
   "name": "python",
   "nbconvert_exporter": "python",
   "pygments_lexer": "ipython3",
   "version": "3.8.3"
  }
 },
 "nbformat": 4,
 "nbformat_minor": 4
}
